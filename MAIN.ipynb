{
 "cells": [
  {
   "cell_type": "markdown",
   "metadata": {},
   "source": [
    "# Logical Neural Networks Practice"
   ]
  },
  {
   "cell_type": "markdown",
   "metadata": {},
   "source": [
    "In this notebook you will implement a neural network to learn rules.\n",
    "It will consists of 3 steps:\n",
    "\n",
    "    1. Load data\n",
    "    2. Write the AND and OR layers\n",
    "    3. Extract the rules\n",
    "    \n",
    "Then you will choose **at least 1 extension** to work on.\n",
    "For the extension of your choice you will need to write down your key idea and implement it.\n",
    "\n",
    "Cells that require your input are labelled with __# TODO__ others are laeblled with __# NO CHANGE REQUIRED__"
   ]
  },
  {
   "cell_type": "markdown",
   "metadata": {
    "toc": true
   },
   "source": [
    "<h1>Table of Contents<span class=\"tocSkip\"></span></h1>\n",
    "<div class=\"toc\"><ul class=\"toc-item\"><li><span><a href=\"#Install-and-Import-used-packages\" data-toc-modified-id=\"Install-and-Import-used-packages-1\"><span class=\"toc-item-num\">1&nbsp;&nbsp;</span>Install and Import used packages</a></span></li><li><span><a href=\"#Load-data\" data-toc-modified-id=\"Load-data-2\"><span class=\"toc-item-num\">2&nbsp;&nbsp;</span>Load data</a></span></li><li><span><a href=\"#Base-Rule-Model\" data-toc-modified-id=\"Base-Rule-Model-3\"><span class=\"toc-item-num\">3&nbsp;&nbsp;</span>Base Rule Model</a></span><ul class=\"toc-item\"><li><span><a href=\"#Binary-weights\" data-toc-modified-id=\"Binary-weights-3.1\"><span class=\"toc-item-num\">3.1&nbsp;&nbsp;</span>Binary weights</a></span></li><li><span><a href=\"#[TODO]-AND-&amp;-OR-Layers\" data-toc-modified-id=\"[TODO]-AND-&amp;-OR-Layers-3.2\"><span class=\"toc-item-num\">3.2&nbsp;&nbsp;</span>[TODO] AND &amp; OR Layers</a></span></li><li><span><a href=\"#Model\" data-toc-modified-id=\"Model-3.3\"><span class=\"toc-item-num\">3.3&nbsp;&nbsp;</span>Model</a></span></li><li><span><a href=\"#[TODO]-Extract-Rules-Function\" data-toc-modified-id=\"[TODO]-Extract-Rules-Function-3.4\"><span class=\"toc-item-num\">3.4&nbsp;&nbsp;</span>[TODO] Extract Rules Function</a></span></li><li><span><a href=\"#Training\" data-toc-modified-id=\"Training-3.5\"><span class=\"toc-item-num\">3.5&nbsp;&nbsp;</span>Training</a></span></li><li><span><a href=\"#Extract-trained-rules\" data-toc-modified-id=\"Extract-trained-rules-3.6\"><span class=\"toc-item-num\">3.6&nbsp;&nbsp;</span>Extract trained rules</a></span></li><li><span><a href=\"#Testing\" data-toc-modified-id=\"Testing-3.7\"><span class=\"toc-item-num\">3.7&nbsp;&nbsp;</span>Testing</a></span></li></ul></li><li><span><a href=\"#[TODO]-Extensions\" data-toc-modified-id=\"[TODO]-Extensions-4\"><span class=\"toc-item-num\">4&nbsp;&nbsp;</span>[TODO] Extensions</a></span><ul class=\"toc-item\"><li><span><a href=\"#Extension-1:-NOT-Logical-Operator\" data-toc-modified-id=\"Extension-1:-NOT-Logical-Operator-4.1\"><span class=\"toc-item-num\">4.1&nbsp;&nbsp;</span>Extension 1: NOT Logical Operator</a></span><ul class=\"toc-item\"><li><span><a href=\"#Your-idea\" data-toc-modified-id=\"Your-idea-4.1.1\"><span class=\"toc-item-num\">4.1.1&nbsp;&nbsp;</span>Your idea</a></span></li><li><span><a href=\"#Your-Implementation\" data-toc-modified-id=\"Your-Implementation-4.1.2\"><span class=\"toc-item-num\">4.1.2&nbsp;&nbsp;</span>Your Implementation</a></span></li></ul></li><li><span><a href=\"#Extension-2:-Categorical-Variables\" data-toc-modified-id=\"Extension-2:-Categorical-Variables-4.2\"><span class=\"toc-item-num\">4.2&nbsp;&nbsp;</span>Extension 2: Categorical Variables</a></span><ul class=\"toc-item\"><li><span><a href=\"#Your-idea\" data-toc-modified-id=\"Your-idea-4.2.1\"><span class=\"toc-item-num\">4.2.1&nbsp;&nbsp;</span>Your idea</a></span></li><li><span><a href=\"#Your-Implementation\" data-toc-modified-id=\"Your-Implementation-4.2.2\"><span class=\"toc-item-num\">4.2.2&nbsp;&nbsp;</span>Your Implementation</a></span></li></ul></li><li><span><a href=\"#Extension-3:-Concise-rules\" data-toc-modified-id=\"Extension-3:-Concise-rules-4.3\"><span class=\"toc-item-num\">4.3&nbsp;&nbsp;</span>Extension 3: Concise rules</a></span><ul class=\"toc-item\"><li><span><a href=\"#Your-idea\" data-toc-modified-id=\"Your-idea-4.3.1\"><span class=\"toc-item-num\">4.3.1&nbsp;&nbsp;</span>Your idea</a></span></li><li><span><a href=\"#Your-Implementation\" data-toc-modified-id=\"Your-Implementation-4.3.2\"><span class=\"toc-item-num\">4.3.2&nbsp;&nbsp;</span>Your Implementation</a></span></li></ul></li><li><span><a href=\"#BONUS-Extension-4:-Numerical-Variables\" data-toc-modified-id=\"BONUS-Extension-4:-Numerical-Variables-4.4\"><span class=\"toc-item-num\">4.4&nbsp;&nbsp;</span>BONUS Extension 4: Numerical Variables</a></span><ul class=\"toc-item\"><li><span><a href=\"#Your-idea\" data-toc-modified-id=\"Your-idea-4.4.1\"><span class=\"toc-item-num\">4.4.1&nbsp;&nbsp;</span>Your idea</a></span></li><li><span><a href=\"#Your-Implementation\" data-toc-modified-id=\"Your-Implementation-4.4.2\"><span class=\"toc-item-num\">4.4.2&nbsp;&nbsp;</span>Your Implementation</a></span><ul class=\"toc-item\"><li><span><a href=\"#Dataset\" data-toc-modified-id=\"Dataset-4.4.2.1\"><span class=\"toc-item-num\">4.4.2.1&nbsp;&nbsp;</span>Dataset</a></span></li></ul></li></ul></li></ul></li></ul></div>"
   ]
  },
  {
   "cell_type": "markdown",
   "metadata": {},
   "source": [
    "## Install and Import used packages"
   ]
  },
  {
   "cell_type": "markdown",
   "metadata": {},
   "source": [
    "You can comment those once they are installed to avoid having the long logs."
   ]
  },
  {
   "cell_type": "code",
   "execution_count": 1,
   "metadata": {},
   "outputs": [],
   "source": [
    "#pip install torch pandas jupyter_contrib_nbextensions"
   ]
  },
  {
   "cell_type": "code",
   "execution_count": 2,
   "metadata": {
    "scrolled": true
   },
   "outputs": [],
   "source": [
    "#jupyter contrib nbextension install --user"
   ]
  },
  {
   "cell_type": "code",
   "execution_count": 3,
   "metadata": {},
   "outputs": [],
   "source": [
    "#jupyter nbextension enable toc2/main"
   ]
  },
  {
   "cell_type": "markdown",
   "metadata": {},
   "source": [
    "Import main libraries"
   ]
  },
  {
   "cell_type": "code",
   "execution_count": 4,
   "metadata": {},
   "outputs": [],
   "source": [
    "import torch\n",
    "from torch import nn\n",
    "from collections import OrderedDict\n",
    "from torch.nn import init\n",
    "import pandas as pd"
   ]
  },
  {
   "cell_type": "markdown",
   "metadata": {},
   "source": [
    "## Load data"
   ]
  },
  {
   "cell_type": "code",
   "execution_count": 5,
   "metadata": {},
   "outputs": [
    {
     "data": {
      "text/html": [
       "<div>\n",
       "<style scoped>\n",
       "    .dataframe tbody tr th:only-of-type {\n",
       "        vertical-align: middle;\n",
       "    }\n",
       "\n",
       "    .dataframe tbody tr th {\n",
       "        vertical-align: top;\n",
       "    }\n",
       "\n",
       "    .dataframe thead th {\n",
       "        text-align: right;\n",
       "    }\n",
       "</style>\n",
       "<table border=\"1\" class=\"dataframe\">\n",
       "  <thead>\n",
       "    <tr style=\"text-align: right;\">\n",
       "      <th></th>\n",
       "      <th>A</th>\n",
       "      <th>B</th>\n",
       "      <th>C</th>\n",
       "      <th>D</th>\n",
       "      <th>E</th>\n",
       "      <th>F</th>\n",
       "      <th>G</th>\n",
       "      <th>H</th>\n",
       "      <th>class</th>\n",
       "    </tr>\n",
       "  </thead>\n",
       "  <tbody>\n",
       "    <tr>\n",
       "      <th>0</th>\n",
       "      <td>0</td>\n",
       "      <td>0</td>\n",
       "      <td>0</td>\n",
       "      <td>1</td>\n",
       "      <td>1</td>\n",
       "      <td>0</td>\n",
       "      <td>0</td>\n",
       "      <td>0</td>\n",
       "      <td>1</td>\n",
       "    </tr>\n",
       "    <tr>\n",
       "      <th>1</th>\n",
       "      <td>1</td>\n",
       "      <td>1</td>\n",
       "      <td>1</td>\n",
       "      <td>0</td>\n",
       "      <td>0</td>\n",
       "      <td>0</td>\n",
       "      <td>1</td>\n",
       "      <td>0</td>\n",
       "      <td>0</td>\n",
       "    </tr>\n",
       "    <tr>\n",
       "      <th>2</th>\n",
       "      <td>0</td>\n",
       "      <td>1</td>\n",
       "      <td>0</td>\n",
       "      <td>0</td>\n",
       "      <td>1</td>\n",
       "      <td>1</td>\n",
       "      <td>0</td>\n",
       "      <td>0</td>\n",
       "      <td>0</td>\n",
       "    </tr>\n",
       "    <tr>\n",
       "      <th>3</th>\n",
       "      <td>1</td>\n",
       "      <td>0</td>\n",
       "      <td>0</td>\n",
       "      <td>1</td>\n",
       "      <td>1</td>\n",
       "      <td>0</td>\n",
       "      <td>1</td>\n",
       "      <td>1</td>\n",
       "      <td>1</td>\n",
       "    </tr>\n",
       "    <tr>\n",
       "      <th>4</th>\n",
       "      <td>1</td>\n",
       "      <td>1</td>\n",
       "      <td>0</td>\n",
       "      <td>0</td>\n",
       "      <td>1</td>\n",
       "      <td>1</td>\n",
       "      <td>0</td>\n",
       "      <td>1</td>\n",
       "      <td>1</td>\n",
       "    </tr>\n",
       "  </tbody>\n",
       "</table>\n",
       "</div>"
      ],
      "text/plain": [
       "   A  B  C  D  E  F  G  H  class\n",
       "0  0  0  0  1  1  0  0  0      1\n",
       "1  1  1  1  0  0  0  1  0      0\n",
       "2  0  1  0  0  1  1  0  0      0\n",
       "3  1  0  0  1  1  0  1  1      1\n",
       "4  1  1  0  0  1  1  0  1      1"
      ]
     },
     "execution_count": 5,
     "metadata": {},
     "output_type": "execute_result"
    }
   ],
   "source": [
    "# NO CHANGE REQUIRED\n",
    "df = pd.read_csv('./datasets/base_dataset/data.csv')\n",
    "df.head()"
   ]
  },
  {
   "cell_type": "code",
   "execution_count": 6,
   "metadata": {},
   "outputs": [],
   "source": [
    "# NO CHANGE REQUIRED\n",
    "# Create a custom dataset for pytorch Dataloader\n",
    "from torch.utils.data import Dataset\n",
    "\n",
    "class CustomDataset(Dataset):\n",
    "    def __init__(self, df):\n",
    "        data = df.copy()\n",
    "        self.y = torch.tensor(data.pop('class'), dtype=torch.float32)\n",
    "        self.x = torch.tensor(data.values, dtype=torch.float32)\n",
    "        self.feature_size = self.x.size(1)\n",
    "        self.features_names = list(data.columns)\n",
    "        \n",
    "    def __len__(self):\n",
    "        return len(self.x)\n",
    "\n",
    "    def __getitem__(self, idx):\n",
    "        return self.x[idx],self.y[idx]"
   ]
  },
  {
   "cell_type": "code",
   "execution_count": 7,
   "metadata": {},
   "outputs": [],
   "source": [
    "# NO CHANGE REQUIRED\n",
    "from torch.utils.data import DataLoader\n",
    "\n",
    "dataset = CustomDataset(df)\n",
    "train_loader = DataLoader(dataset, batch_size=100, shuffle=True)"
   ]
  },
  {
   "cell_type": "markdown",
   "metadata": {},
   "source": [
    "## Base Rule Model\n",
    "\n",
    "In this section, you will implement a base rule neural model composed of a AND and an OR layer.\n",
    "\n",
    "![Model](image/model.png)\n"
   ]
  },
  {
   "cell_type": "markdown",
   "metadata": {},
   "source": [
    "### Binary weights"
   ]
  },
  {
   "cell_type": "code",
   "execution_count": 8,
   "metadata": {},
   "outputs": [],
   "source": [
    "# NO CHANGE REQUIRED\n",
    "# You dont need to understand everything that is going on in that cell\n",
    "# The main idea is : \n",
    "# We will train the \"loc\" variable and apply a (hard) sigmoid on it to get a binary value\n",
    "from torch.autograd import Variable\n",
    "\n",
    "def hard_sigmoid(x):\n",
    "    return torch.min(torch.max(x, torch.zeros_like(x)), torch.ones_like(x))\n",
    "\n",
    "class BinaryWeight(nn.Module):\n",
    "    def __init__(self, dim_in, dim_out):\n",
    "        super(BinaryWeight, self).__init__()\n",
    "        self.dim_in = dim_in\n",
    "        self.dim_out = dim_out\n",
    "        self.loc = torch.nn.Parameter(torch.empty(dim_in, dim_out), requires_grad=True)\n",
    "        init.xavier_uniform_(self.loc)\n",
    "        self.register_buffer(\"uniform\", torch.zeros(dim_in, dim_out))\n",
    "        self.temp = 2/3\n",
    "        self.gamma = -0.1\n",
    "        self.zeta = 1.1\n",
    "\n",
    "    def forward(self):\n",
    "        if self.training:\n",
    "            self.uniform.uniform_()\n",
    "            u = Variable(self.uniform)\n",
    "            s = torch.sigmoid((torch.log(u) - torch.log(1 - u) + self.loc) / self.temp)\n",
    "            s = s * (self.zeta - self.gamma) + self.gamma\n",
    "        else:\n",
    "            return self.get_binary_value()\n",
    "        return hard_sigmoid(s)\n",
    "\n",
    "    def get_binary_value(self):\n",
    "        return torch.heaviside(self.loc, torch.ones_like(self.loc))"
   ]
  },
  {
   "cell_type": "markdown",
   "metadata": {},
   "source": [
    "### [TODO] AND & OR Layers\n",
    "\n",
    "![Layers](image/layers.png)\n"
   ]
  },
  {
   "cell_type": "code",
   "execution_count": 9,
   "metadata": {},
   "outputs": [],
   "source": [
    "# TODO\n",
    "\n",
    "class ORLayer(nn.Module):\n",
    "\n",
    "    def __init__(self, input_size, output_size):\n",
    "        super(ORLayer, self).__init__()\n",
    "        self.weight = BinaryWeight(input_size, output_size)\n",
    "        self.input_size = input_size\n",
    "        self.output_size = output_size\n",
    "\n",
    "    def forward(self, x):\n",
    "        '''\n",
    "        x is of size (100, input_size) --> 100 batch size ie. number of observations\n",
    "        weight is of size (input_size, output_size)\n",
    "        output needs to be of size (100, output_size)\n",
    "        '''\n",
    "        weight = self.weight()\n",
    "        \n",
    "        # TODO REPLACE THIS WITH YOUR CODE\n",
    "        # ---\n",
    "        output = torch.matmul(x, weight)\n",
    "        output = torch.minimum(output, torch.ones_like(output))\n",
    "        # ---\n",
    "        return output\n",
    "    \n",
    "class ANDLayer(nn.Module):\n",
    "\n",
    "    def __init__(self, input_size, output_size):\n",
    "        super(ANDLayer, self).__init__()\n",
    "        self.weight = BinaryWeight(input_size, output_size)\n",
    "        self.input_size = input_size\n",
    "        self.output_size = output_size\n",
    "\n",
    "    def forward(self, x):\n",
    "        '''\n",
    "        x is of size (100, input_size) --> 100 batch size ie. number of observations\n",
    "        weight is of size (input_size, output_size)\n",
    "        output needs to be of size (100, output_size)\n",
    "        '''\n",
    "        weight = self.weight()\n",
    "\n",
    "        # TODO REPLACE THIS WITH YOUR CODE\n",
    "        # ---\n",
    "        output = torch.matmul(1 - x, weight)\n",
    "        output = 1 - (torch.minimum(output, torch.ones_like(output)))\n",
    "        # ---\n",
    "        return output"
   ]
  },
  {
   "cell_type": "markdown",
   "metadata": {},
   "source": [
    "### Model"
   ]
  },
  {
   "cell_type": "code",
   "execution_count": 10,
   "metadata": {},
   "outputs": [],
   "source": [
    "# NO CHANGE REQUIRED\n",
    "\n",
    "input_size = dataset.feature_size\n",
    "hidden_size = dataset.feature_size\n",
    "output_size = 1\n",
    "base_rule_model = nn.Sequential(OrderedDict([\n",
    "          ('and', ANDLayer(input_size=input_size, output_size=hidden_size)),\n",
    "          ('or', ORLayer(input_size=hidden_size, output_size=output_size))\n",
    "        ]))\n"
   ]
  },
  {
   "cell_type": "markdown",
   "metadata": {},
   "source": [
    "### [TODO] Extract Rules Function\n",
    "\n",
    "In this section, you will implement the function to extract the rules from the trained model"
   ]
  },
  {
   "cell_type": "code",
   "execution_count": 11,
   "metadata": {},
   "outputs": [],
   "source": [
    "# TODO\n",
    "import numpy as np\n",
    "def extract_rules(model, features_names):\n",
    "    '''\n",
    "    This function needs to return a string with the extracted rules\n",
    "    '''\n",
    "    model.eval()\n",
    "    and_layer_weights = model[0].weight.get_binary_value()\n",
    "    or_layer_weights = model[1].weight.get_binary_value()\n",
    "    # TODO REPLACE THIS WITH YOUR CODE\n",
    "    # ---\n",
    "    and_array = []\n",
    "    for i in range(len(or_layer_weights)):\n",
    "        \n",
    "        if or_layer_weights[i][0] == 1. and torch.sum(and_layer_weights[:, i]) > 0 :\n",
    "            output_and = \"\"\n",
    "            # We add \"(\" if there are at least 2 features in the AND\n",
    "            if torch.sum(and_layer_weights[:, i]) > 1:\n",
    "                output_and += \"(\"\n",
    "            \n",
    "            \n",
    "            for j in range(len(and_layer_weights[:, i])):\n",
    "                el_and = and_layer_weights[:, i][j]\n",
    "                if el_and.item() == 1.:\n",
    "                    output_and += str(features_names[j])\n",
    "                    \n",
    "                    # We add \" AND \" if there are at least 1 feature left to add\n",
    "                    if torch.sum(and_layer_weights[:, i][j+1:]) >= 1:\n",
    "                        output_and += \" AND \"\n",
    "            \n",
    "            # We add \")\" if there are at least 2 features in the AND \n",
    "            if torch.sum(and_layer_weights[:, i]) > 1:\n",
    "                output_and += \")\"\n",
    "                \n",
    "            and_array.append(output_and)\n",
    "\n",
    "    and_array = np.unique(np.array(and_array)) # Suppress duplicate AND rules\n",
    "    output = \"if \"\n",
    "    for el in and_array:\n",
    "        output += el\n",
    "        if el != and_array[-1]:\n",
    "            output += \" OR \"\n",
    "           \n",
    "            \n",
    "    output += \" then 1\"\n",
    "\n",
    "    # ---\n",
    "\n",
    "    return output"
   ]
  },
  {
   "cell_type": "markdown",
   "metadata": {},
   "source": [
    "You can test your function with the following command on a trained model.\n",
    "This model corresponds to the rule\n",
    "```\n",
    "if A OR (D AND E) then 1\n",
    "```"
   ]
  },
  {
   "cell_type": "code",
   "execution_count": 12,
   "metadata": {},
   "outputs": [
    {
     "name": "stdout",
     "output_type": "stream",
     "text": [
      "if (D AND E) OR A then 1\n"
     ]
    }
   ],
   "source": [
    "# NO CHANGE REQUIRED\n",
    "example_model = torch.load('./datasets/example_dataset/model.pt')\n",
    "rules_str = extract_rules(example_model, dataset.features_names)\n",
    "print(rules_str)"
   ]
  },
  {
   "cell_type": "markdown",
   "metadata": {},
   "source": [
    "### Training"
   ]
  },
  {
   "cell_type": "code",
   "execution_count": 13,
   "metadata": {},
   "outputs": [],
   "source": [
    "# NO CHANGE REQUIRED\n",
    "import torch.optim as optim\n",
    "\n",
    "def train(model, train_loader, epochs, verbose=False):\n",
    "    criterion = nn.MSELoss()\n",
    "    optimizer = optim.Adam(params=model.parameters(), lr=0.1, amsgrad=False)\n",
    "        \n",
    "    model.train()\n",
    "    for epoch in range(epochs):  # loop over the dataset multiple times\n",
    "        \n",
    "        running_loss = 0.0\n",
    "        for i, data in enumerate(train_loader):\n",
    "            \n",
    "            # get the inputs; data is a list of [inputs, labels]\n",
    "            x, y = data\n",
    "\n",
    "            # zero the parameter gradients\n",
    "            optimizer.zero_grad()\n",
    "\n",
    "            # forward pass\n",
    "            outputs = model(x)\n",
    "            # compute the loss\n",
    "            loss = criterion(outputs.squeeze(), y)\n",
    "            # backward pass\n",
    "            loss.backward()\n",
    "            # optimize the model\n",
    "            optimizer.step()\n",
    "\n",
    "            # print metrics\n",
    "            running_loss += loss.item()\n",
    "            if verbose:\n",
    "                if i % 10 == 9:    # print every 2000 mini-batches\n",
    "                    print(f'[{epoch + 1}, {i + 1:5d}] loss: {running_loss / 2000:.9f}', end='\\r')\n",
    "                    running_loss = 0.0\n",
    "                \n",
    "\n",
    "    print('Finished Training')\n"
   ]
  },
  {
   "cell_type": "code",
   "execution_count": 14,
   "metadata": {
    "scrolled": true
   },
   "outputs": [
    {
     "name": "stdout",
     "output_type": "stream",
     "text": [
      "Finished Training: 0.000000000\n"
     ]
    }
   ],
   "source": [
    "# NO CHANGE REQUIRED\n",
    "train(base_rule_model, train_loader, epochs=100, verbose=True)"
   ]
  },
  {
   "cell_type": "markdown",
   "metadata": {},
   "source": [
    "### Extract trained rules"
   ]
  },
  {
   "cell_type": "code",
   "execution_count": 15,
   "metadata": {
    "scrolled": true
   },
   "outputs": [
    {
     "name": "stdout",
     "output_type": "stream",
     "text": [
      "Rules:\n",
      " if (A AND F) OR (D AND E) then 1\n"
     ]
    }
   ],
   "source": [
    "# NO CHANGE REQUIRED\n",
    "rules_str = extract_rules(base_rule_model, dataset.features_names)\n",
    "print('Rules:\\n', rules_str)"
   ]
  },
  {
   "cell_type": "markdown",
   "metadata": {},
   "source": [
    "### Testing"
   ]
  },
  {
   "cell_type": "code",
   "execution_count": 16,
   "metadata": {},
   "outputs": [],
   "source": [
    "# NO CHANGE REQUIRED\n",
    "def test(model, test_loader):\n",
    "    correct = 0\n",
    "    total = 0\n",
    "    # since we're not training, we don't need to calculate the gradients for our outputs\n",
    "    with torch.no_grad():\n",
    "        model.eval()\n",
    "        for data in test_loader:\n",
    "            x, y = data\n",
    "            # calculate outputs by running data through the model\n",
    "            predicted = model(x).squeeze()\n",
    "            total += y.size(0)\n",
    "            correct += (predicted == y).sum().item()\n",
    "    print(f'Accuracy of the network: {100 * correct // total} %')"
   ]
  },
  {
   "cell_type": "code",
   "execution_count": 17,
   "metadata": {},
   "outputs": [
    {
     "name": "stdout",
     "output_type": "stream",
     "text": [
      "Accuracy of the network: 100 %\n"
     ]
    }
   ],
   "source": [
    "# NO CHANGE REQUIRED\n",
    "test(base_rule_model, train_loader)"
   ]
  },
  {
   "cell_type": "markdown",
   "metadata": {},
   "source": [
    "## [TODO] Extensions\n",
    "\n",
    "In this section, you will choose **at least one** extension to implement.\n",
    "\n",
    "The choices are the following:\n",
    "- extend the model to support the **NOT logical operator**.\n",
    "- extend the model to be appropriate for **categorical** variables.\n",
    "- propose a solution to have short and concise rules (no redundancy for example) --> how to have a sparse model (the most null weights as possible)?\n",
    "Bonus:\n",
    "- extend the model to be appropriate for **numerical** variables.\n",
    "\n"
   ]
  },
  {
   "cell_type": "markdown",
   "metadata": {},
   "source": [
    "### Extension 1: NOT Logical Operator"
   ]
  },
  {
   "cell_type": "markdown",
   "metadata": {},
   "source": [
    "#### Your idea\n",
    "\n",
    "We have to add a new weight in ANDLayer and take it into account in forward (like v and w in the course). To do that, we will create a N_ANDLayer with two weights of shape(input_size, output_size) : weight & not_weight.\n",
    "\n",
    "To perform the | not_weight - output | operation, we adjust the size of not_weight as follows: we repeat not_weight until it has the same number of lines as output.\n",
    "\n",
    "In extract_rules, we add a piece of code to display NOT in front of an element if the corresponding not_weight element is 1."
   ]
  },
  {
   "cell_type": "markdown",
   "metadata": {},
   "source": [
    "#### Your Implementation\n",
    "\n",
    "A dataset is availaible to try out your model.\n",
    "\n",
    "You might consider creating a new AND layer and a new extract_rule function."
   ]
  },
  {
   "cell_type": "code",
   "execution_count": 18,
   "metadata": {},
   "outputs": [
    {
     "data": {
      "text/html": [
       "<div>\n",
       "<style scoped>\n",
       "    .dataframe tbody tr th:only-of-type {\n",
       "        vertical-align: middle;\n",
       "    }\n",
       "\n",
       "    .dataframe tbody tr th {\n",
       "        vertical-align: top;\n",
       "    }\n",
       "\n",
       "    .dataframe thead th {\n",
       "        text-align: right;\n",
       "    }\n",
       "</style>\n",
       "<table border=\"1\" class=\"dataframe\">\n",
       "  <thead>\n",
       "    <tr style=\"text-align: right;\">\n",
       "      <th></th>\n",
       "      <th>A</th>\n",
       "      <th>B</th>\n",
       "      <th>C</th>\n",
       "      <th>D</th>\n",
       "      <th>E</th>\n",
       "      <th>F</th>\n",
       "      <th>G</th>\n",
       "      <th>H</th>\n",
       "      <th>class</th>\n",
       "    </tr>\n",
       "  </thead>\n",
       "  <tbody>\n",
       "    <tr>\n",
       "      <th>0</th>\n",
       "      <td>0</td>\n",
       "      <td>0</td>\n",
       "      <td>0</td>\n",
       "      <td>1</td>\n",
       "      <td>1</td>\n",
       "      <td>0</td>\n",
       "      <td>0</td>\n",
       "      <td>0</td>\n",
       "      <td>1</td>\n",
       "    </tr>\n",
       "    <tr>\n",
       "      <th>1</th>\n",
       "      <td>0</td>\n",
       "      <td>1</td>\n",
       "      <td>0</td>\n",
       "      <td>1</td>\n",
       "      <td>1</td>\n",
       "      <td>1</td>\n",
       "      <td>1</td>\n",
       "      <td>0</td>\n",
       "      <td>1</td>\n",
       "    </tr>\n",
       "    <tr>\n",
       "      <th>2</th>\n",
       "      <td>1</td>\n",
       "      <td>0</td>\n",
       "      <td>1</td>\n",
       "      <td>0</td>\n",
       "      <td>1</td>\n",
       "      <td>1</td>\n",
       "      <td>1</td>\n",
       "      <td>0</td>\n",
       "      <td>1</td>\n",
       "    </tr>\n",
       "    <tr>\n",
       "      <th>3</th>\n",
       "      <td>1</td>\n",
       "      <td>0</td>\n",
       "      <td>1</td>\n",
       "      <td>0</td>\n",
       "      <td>1</td>\n",
       "      <td>0</td>\n",
       "      <td>0</td>\n",
       "      <td>0</td>\n",
       "      <td>1</td>\n",
       "    </tr>\n",
       "    <tr>\n",
       "      <th>4</th>\n",
       "      <td>1</td>\n",
       "      <td>1</td>\n",
       "      <td>0</td>\n",
       "      <td>0</td>\n",
       "      <td>0</td>\n",
       "      <td>0</td>\n",
       "      <td>1</td>\n",
       "      <td>1</td>\n",
       "      <td>1</td>\n",
       "    </tr>\n",
       "  </tbody>\n",
       "</table>\n",
       "</div>"
      ],
      "text/plain": [
       "   A  B  C  D  E  F  G  H  class\n",
       "0  0  0  0  1  1  0  0  0      1\n",
       "1  0  1  0  1  1  1  1  0      1\n",
       "2  1  0  1  0  1  1  1  0      1\n",
       "3  1  0  1  0  1  0  0  0      1\n",
       "4  1  1  0  0  0  0  1  1      1"
      ]
     },
     "metadata": {},
     "output_type": "display_data"
    }
   ],
   "source": [
    "# NO CHANGE REQUIRED\n",
    "df_not = pd.read_csv('./datasets/not_dataset/data.csv')\n",
    "display(df_not.head())\n",
    "dataset_not = CustomDataset(df_not)\n",
    "train_loader_not = DataLoader(dataset_not, batch_size=100, shuffle=True)"
   ]
  },
  {
   "cell_type": "code",
   "execution_count": 19,
   "metadata": {},
   "outputs": [],
   "source": [
    "class N_ANDLayer(nn.Module):\n",
    "\n",
    "    def __init__(self, input_size, output_size):\n",
    "        super(N_ANDLayer, self).__init__()\n",
    "        self.weight = BinaryWeight(input_size, output_size)\n",
    "        self.not_weight = BinaryWeight(input_size, output_size)\n",
    "        self.input_size = input_size\n",
    "        self.output_size = output_size\n",
    "\n",
    "    def forward(self, x):\n",
    "        '''\n",
    "        x is of size (100, input_size) --> 100 batch size ie. number of observations\n",
    "        weight is of size (input_size, output_size)\n",
    "        output needs to be of size (100, output_size)\n",
    "        '''\n",
    "        weight = self.weight()\n",
    "        not_weight = self.not_weight()\n",
    "        \n",
    "\n",
    "        # TODO REPLACE THIS WITH YOUR CODE\n",
    "        # ---\n",
    "        output = torch.matmul(1 - x, weight)\n",
    "        output = 1 - (torch.minimum(output, torch.ones_like(output)))\n",
    "        \n",
    "        \n",
    "        rep = output.shape[0]//not_weight.shape[0]\n",
    "        rest = output.shape[0]%not_weight.shape[0]\n",
    "        not_weight_star = torch.cat((not_weight.repeat(rep, 1) , not_weight[:rest, :]))\n",
    "        \n",
    "        \n",
    "        output = torch.abs(not_weight_star -  output)\n",
    "      \n",
    "        # ---\n",
    "        return output"
   ]
  },
  {
   "cell_type": "code",
   "execution_count": 20,
   "metadata": {},
   "outputs": [],
   "source": [
    "# NO CHANGE REQUIRED\n",
    "\n",
    "input_size_not = dataset_not.feature_size\n",
    "hidden_size_not = dataset_not.feature_size\n",
    "output_size_not = 1\n",
    "\n",
    "not_rule_model = nn.Sequential(OrderedDict([\n",
    "          ('and', N_ANDLayer(input_size=input_size_not, output_size=hidden_size_not)),\n",
    "          ('or', ORLayer(input_size=hidden_size_not, output_size=output_size_not))\n",
    "        ]))\n"
   ]
  },
  {
   "cell_type": "code",
   "execution_count": 21,
   "metadata": {},
   "outputs": [
    {
     "name": "stdout",
     "output_type": "stream",
     "text": [
      "Finished Training: 0.000321165\n"
     ]
    }
   ],
   "source": [
    "train(not_rule_model, train_loader_not, epochs=100, verbose=True)"
   ]
  },
  {
   "cell_type": "code",
   "execution_count": 22,
   "metadata": {},
   "outputs": [],
   "source": [
    "# TODO\n",
    "import numpy as np\n",
    "def extract_rules_not(model, features_names):\n",
    "    '''\n",
    "    This function needs to return a string with the extracted rules\n",
    "    '''\n",
    "    model.eval()\n",
    "    and_layer_weights = model[0].weight.get_binary_value()\n",
    "    not_layer_weights = model[0].not_weight.get_binary_value()\n",
    "    or_layer_weights = model[1].weight.get_binary_value()\n",
    "    \n",
    "    # TODO REPLACE THIS WITH YOUR CODE\n",
    "    # ---\n",
    "    and_array = []\n",
    "    for i in range(len(or_layer_weights)):\n",
    "        \n",
    "        if or_layer_weights[i][0] == 1. and torch.sum(and_layer_weights[:, i]) > 0 :\n",
    "            output_and = \"\"\n",
    "            # We add \"(\" if there are at least 2 features in the AND\n",
    "            if torch.sum(and_layer_weights[:, i]) > 1:\n",
    "                output_and += \"(\"\n",
    "            \n",
    "            \n",
    "            for j in range(len(and_layer_weights[:, i])):\n",
    "                el_and = and_layer_weights[:, i][j]\n",
    "                el_not = not_layer_weights[:, i][j]\n",
    "                \n",
    "                if el_and.item() == 1.:\n",
    "                    \n",
    "                    if el_not.item() == 1.:\n",
    "                        output_and += \"NOT(\" + str(features_names[j]) + \")\"\n",
    "                    \n",
    "                    else:\n",
    "                        output_and += str(features_names[j])\n",
    "                    \n",
    "                    # We add \" AND \" if there are at least 1 feature left to add\n",
    "                    if torch.sum(and_layer_weights[:, i][j+1:]) >= 1:\n",
    "                        output_and += \" AND \"\n",
    "            \n",
    "            # We add \")\" if there are at least 2 features in the AND \n",
    "            if torch.sum(and_layer_weights[:, i]) > 1:\n",
    "                output_and += \")\"\n",
    "                \n",
    "            and_array.append(output_and)\n",
    "\n",
    "    and_array = np.unique(np.array(and_array))\n",
    "    output = \"if \"\n",
    "    for el in and_array:\n",
    "        output += el\n",
    "        if el != and_array[-1]:\n",
    "            output += \" OR \"\n",
    "           \n",
    "            \n",
    "    output += \" then 1\"\n",
    "\n",
    "    # ---\n",
    "\n",
    "    return output"
   ]
  },
  {
   "cell_type": "code",
   "execution_count": 23,
   "metadata": {},
   "outputs": [
    {
     "name": "stdout",
     "output_type": "stream",
     "text": [
      "Rules:\n",
      " if (NOT(B) AND NOT(C) AND NOT(D)) then 1\n"
     ]
    }
   ],
   "source": [
    "# NO CHANGE REQUIRED\n",
    "rules_str_not = extract_rules_not(not_rule_model, dataset_not.features_names)\n",
    "print('Rules:\\n', rules_str_not)"
   ]
  },
  {
   "cell_type": "code",
   "execution_count": 24,
   "metadata": {},
   "outputs": [
    {
     "name": "stdout",
     "output_type": "stream",
     "text": [
      "Accuracy of the network: 93 %\n"
     ]
    }
   ],
   "source": [
    "# NO CHANGE REQUIRED\n",
    "test(not_rule_model, train_loader_not)"
   ]
  },
  {
   "cell_type": "markdown",
   "metadata": {},
   "source": [
    "### Extension 2: Categorical Variables"
   ]
  },
  {
   "cell_type": "markdown",
   "metadata": {},
   "source": [
    "#### Your idea\n",
    "\n",
    "Write down with words in the following cell what your idea is to support categorical variables"
   ]
  },
  {
   "cell_type": "markdown",
   "metadata": {},
   "source": [
    "TODO WRITE HERE"
   ]
  },
  {
   "cell_type": "markdown",
   "metadata": {},
   "source": [
    "#### Your Implementation\n",
    "\n",
    "One dataset is provided.\n",
    "You can use either the original one (train_loader_1) or the onehot encoded one (train_loader_2)"
   ]
  },
  {
   "cell_type": "code",
   "execution_count": 25,
   "metadata": {},
   "outputs": [
    {
     "data": {
      "text/html": [
       "<div>\n",
       "<style scoped>\n",
       "    .dataframe tbody tr th:only-of-type {\n",
       "        vertical-align: middle;\n",
       "    }\n",
       "\n",
       "    .dataframe tbody tr th {\n",
       "        vertical-align: top;\n",
       "    }\n",
       "\n",
       "    .dataframe thead th {\n",
       "        text-align: right;\n",
       "    }\n",
       "</style>\n",
       "<table border=\"1\" class=\"dataframe\">\n",
       "  <thead>\n",
       "    <tr style=\"text-align: right;\">\n",
       "      <th></th>\n",
       "      <th>A</th>\n",
       "      <th>B</th>\n",
       "      <th>C</th>\n",
       "      <th>D</th>\n",
       "      <th>E</th>\n",
       "      <th>F</th>\n",
       "      <th>G</th>\n",
       "      <th>H</th>\n",
       "      <th>class</th>\n",
       "    </tr>\n",
       "  </thead>\n",
       "  <tbody>\n",
       "    <tr>\n",
       "      <th>0</th>\n",
       "      <td>3</td>\n",
       "      <td>2</td>\n",
       "      <td>2</td>\n",
       "      <td>0</td>\n",
       "      <td>0</td>\n",
       "      <td>3</td>\n",
       "      <td>4</td>\n",
       "      <td>0</td>\n",
       "      <td>0</td>\n",
       "    </tr>\n",
       "    <tr>\n",
       "      <th>1</th>\n",
       "      <td>0</td>\n",
       "      <td>3</td>\n",
       "      <td>2</td>\n",
       "      <td>1</td>\n",
       "      <td>4</td>\n",
       "      <td>0</td>\n",
       "      <td>4</td>\n",
       "      <td>4</td>\n",
       "      <td>0</td>\n",
       "    </tr>\n",
       "    <tr>\n",
       "      <th>2</th>\n",
       "      <td>0</td>\n",
       "      <td>2</td>\n",
       "      <td>4</td>\n",
       "      <td>4</td>\n",
       "      <td>4</td>\n",
       "      <td>3</td>\n",
       "      <td>1</td>\n",
       "      <td>2</td>\n",
       "      <td>0</td>\n",
       "    </tr>\n",
       "    <tr>\n",
       "      <th>3</th>\n",
       "      <td>0</td>\n",
       "      <td>0</td>\n",
       "      <td>4</td>\n",
       "      <td>1</td>\n",
       "      <td>0</td>\n",
       "      <td>4</td>\n",
       "      <td>2</td>\n",
       "      <td>2</td>\n",
       "      <td>0</td>\n",
       "    </tr>\n",
       "    <tr>\n",
       "      <th>4</th>\n",
       "      <td>2</td>\n",
       "      <td>4</td>\n",
       "      <td>3</td>\n",
       "      <td>3</td>\n",
       "      <td>3</td>\n",
       "      <td>2</td>\n",
       "      <td>0</td>\n",
       "      <td>1</td>\n",
       "      <td>1</td>\n",
       "    </tr>\n",
       "  </tbody>\n",
       "</table>\n",
       "</div>"
      ],
      "text/plain": [
       "   A  B  C  D  E  F  G  H  class\n",
       "0  3  2  2  0  0  3  4  0      0\n",
       "1  0  3  2  1  4  0  4  4      0\n",
       "2  0  2  4  4  4  3  1  2      0\n",
       "3  0  0  4  1  0  4  2  2      0\n",
       "4  2  4  3  3  3  2  0  1      1"
      ]
     },
     "metadata": {},
     "output_type": "display_data"
    }
   ],
   "source": [
    "# NO CHANGE REQUIRED\n",
    "df = pd.read_csv('./datasets/categorical_dataset/data.csv')\n",
    "display(df.head())\n",
    "dataset_1 = CustomDataset(df)\n",
    "train_loader_1 = DataLoader(dataset_1, batch_size=100, shuffle=True)"
   ]
  },
  {
   "cell_type": "code",
   "execution_count": 26,
   "metadata": {},
   "outputs": [
    {
     "data": {
      "text/html": [
       "<div>\n",
       "<style scoped>\n",
       "    .dataframe tbody tr th:only-of-type {\n",
       "        vertical-align: middle;\n",
       "    }\n",
       "\n",
       "    .dataframe tbody tr th {\n",
       "        vertical-align: top;\n",
       "    }\n",
       "\n",
       "    .dataframe thead th {\n",
       "        text-align: right;\n",
       "    }\n",
       "</style>\n",
       "<table border=\"1\" class=\"dataframe\">\n",
       "  <thead>\n",
       "    <tr style=\"text-align: right;\">\n",
       "      <th></th>\n",
       "      <th>A_0</th>\n",
       "      <th>A_1</th>\n",
       "      <th>A_2</th>\n",
       "      <th>A_3</th>\n",
       "      <th>A_4</th>\n",
       "      <th>B_0</th>\n",
       "      <th>B_1</th>\n",
       "      <th>B_2</th>\n",
       "      <th>B_3</th>\n",
       "      <th>B_4</th>\n",
       "      <th>...</th>\n",
       "      <th>G_1</th>\n",
       "      <th>G_2</th>\n",
       "      <th>G_3</th>\n",
       "      <th>G_4</th>\n",
       "      <th>H_0</th>\n",
       "      <th>H_1</th>\n",
       "      <th>H_2</th>\n",
       "      <th>H_3</th>\n",
       "      <th>H_4</th>\n",
       "      <th>class</th>\n",
       "    </tr>\n",
       "  </thead>\n",
       "  <tbody>\n",
       "    <tr>\n",
       "      <th>0</th>\n",
       "      <td>0</td>\n",
       "      <td>0</td>\n",
       "      <td>0</td>\n",
       "      <td>1</td>\n",
       "      <td>0</td>\n",
       "      <td>0</td>\n",
       "      <td>0</td>\n",
       "      <td>1</td>\n",
       "      <td>0</td>\n",
       "      <td>0</td>\n",
       "      <td>...</td>\n",
       "      <td>0</td>\n",
       "      <td>0</td>\n",
       "      <td>0</td>\n",
       "      <td>1</td>\n",
       "      <td>1</td>\n",
       "      <td>0</td>\n",
       "      <td>0</td>\n",
       "      <td>0</td>\n",
       "      <td>0</td>\n",
       "      <td>0</td>\n",
       "    </tr>\n",
       "    <tr>\n",
       "      <th>1</th>\n",
       "      <td>1</td>\n",
       "      <td>0</td>\n",
       "      <td>0</td>\n",
       "      <td>0</td>\n",
       "      <td>0</td>\n",
       "      <td>0</td>\n",
       "      <td>0</td>\n",
       "      <td>0</td>\n",
       "      <td>1</td>\n",
       "      <td>0</td>\n",
       "      <td>...</td>\n",
       "      <td>0</td>\n",
       "      <td>0</td>\n",
       "      <td>0</td>\n",
       "      <td>1</td>\n",
       "      <td>0</td>\n",
       "      <td>0</td>\n",
       "      <td>0</td>\n",
       "      <td>0</td>\n",
       "      <td>1</td>\n",
       "      <td>0</td>\n",
       "    </tr>\n",
       "    <tr>\n",
       "      <th>2</th>\n",
       "      <td>1</td>\n",
       "      <td>0</td>\n",
       "      <td>0</td>\n",
       "      <td>0</td>\n",
       "      <td>0</td>\n",
       "      <td>0</td>\n",
       "      <td>0</td>\n",
       "      <td>1</td>\n",
       "      <td>0</td>\n",
       "      <td>0</td>\n",
       "      <td>...</td>\n",
       "      <td>1</td>\n",
       "      <td>0</td>\n",
       "      <td>0</td>\n",
       "      <td>0</td>\n",
       "      <td>0</td>\n",
       "      <td>0</td>\n",
       "      <td>1</td>\n",
       "      <td>0</td>\n",
       "      <td>0</td>\n",
       "      <td>0</td>\n",
       "    </tr>\n",
       "    <tr>\n",
       "      <th>3</th>\n",
       "      <td>1</td>\n",
       "      <td>0</td>\n",
       "      <td>0</td>\n",
       "      <td>0</td>\n",
       "      <td>0</td>\n",
       "      <td>1</td>\n",
       "      <td>0</td>\n",
       "      <td>0</td>\n",
       "      <td>0</td>\n",
       "      <td>0</td>\n",
       "      <td>...</td>\n",
       "      <td>0</td>\n",
       "      <td>1</td>\n",
       "      <td>0</td>\n",
       "      <td>0</td>\n",
       "      <td>0</td>\n",
       "      <td>0</td>\n",
       "      <td>1</td>\n",
       "      <td>0</td>\n",
       "      <td>0</td>\n",
       "      <td>0</td>\n",
       "    </tr>\n",
       "    <tr>\n",
       "      <th>4</th>\n",
       "      <td>0</td>\n",
       "      <td>0</td>\n",
       "      <td>1</td>\n",
       "      <td>0</td>\n",
       "      <td>0</td>\n",
       "      <td>0</td>\n",
       "      <td>0</td>\n",
       "      <td>0</td>\n",
       "      <td>0</td>\n",
       "      <td>1</td>\n",
       "      <td>...</td>\n",
       "      <td>0</td>\n",
       "      <td>0</td>\n",
       "      <td>0</td>\n",
       "      <td>0</td>\n",
       "      <td>0</td>\n",
       "      <td>1</td>\n",
       "      <td>0</td>\n",
       "      <td>0</td>\n",
       "      <td>0</td>\n",
       "      <td>1</td>\n",
       "    </tr>\n",
       "  </tbody>\n",
       "</table>\n",
       "<p>5 rows × 41 columns</p>\n",
       "</div>"
      ],
      "text/plain": [
       "   A_0  A_1  A_2  A_3  A_4  B_0  B_1  B_2  B_3  B_4  ...  G_1  G_2  G_3  G_4  \\\n",
       "0    0    0    0    1    0    0    0    1    0    0  ...    0    0    0    1   \n",
       "1    1    0    0    0    0    0    0    0    1    0  ...    0    0    0    1   \n",
       "2    1    0    0    0    0    0    0    1    0    0  ...    1    0    0    0   \n",
       "3    1    0    0    0    0    1    0    0    0    0  ...    0    1    0    0   \n",
       "4    0    0    1    0    0    0    0    0    0    1  ...    0    0    0    0   \n",
       "\n",
       "   H_0  H_1  H_2  H_3  H_4  class  \n",
       "0    1    0    0    0    0      0  \n",
       "1    0    0    0    0    1      0  \n",
       "2    0    0    1    0    0      0  \n",
       "3    0    0    1    0    0      0  \n",
       "4    0    1    0    0    0      1  \n",
       "\n",
       "[5 rows x 41 columns]"
      ]
     },
     "metadata": {},
     "output_type": "display_data"
    }
   ],
   "source": [
    "# NO CHANGE REQUIRED\n",
    "y = df.pop('class')\n",
    "columns = df.columns.values\n",
    "df_one_hot = pd.get_dummies(df.astype(str))\n",
    "df_one_hot['class'] = y\n",
    "display(df_one_hot.head())\n",
    "dataset_2 = CustomDataset(df_one_hot)\n",
    "train_loader_2 = DataLoader(dataset_2, batch_size=100, shuffle=True)"
   ]
  },
  {
   "cell_type": "code",
   "execution_count": null,
   "metadata": {},
   "outputs": [],
   "source": []
  },
  {
   "cell_type": "code",
   "execution_count": null,
   "metadata": {},
   "outputs": [],
   "source": []
  },
  {
   "cell_type": "code",
   "execution_count": null,
   "metadata": {},
   "outputs": [],
   "source": []
  },
  {
   "cell_type": "code",
   "execution_count": null,
   "metadata": {},
   "outputs": [],
   "source": []
  },
  {
   "cell_type": "markdown",
   "metadata": {},
   "source": [
    "### Extension 3: Concise rules"
   ]
  },
  {
   "cell_type": "markdown",
   "metadata": {},
   "source": [
    "#### Your idea\n",
    "\n",
    "Write down with words in the following cell what your idea is to obtain more concise rules.\n",
    "You might consider changing the __train__ function and/or the model"
   ]
  },
  {
   "cell_type": "markdown",
   "metadata": {},
   "source": [
    "In order to write concise rules, you have to make sure that you remove \"duplicate\" rules. For example \"(A and B) or (A and B) or D\" should be simplified to \"(A and B) or D\".\n",
    "However, we have already written extract_rule in the right way so that duplicates are removed (see above).\n",
    "\n",
    "If we want to reduce the size of the rule, we can also change the cost function in the model taking into account the length of the extracted rule. Thus, the model would try to reduce it."
   ]
  },
  {
   "cell_type": "markdown",
   "metadata": {},
   "source": [
    "#### Your Implementation"
   ]
  },
  {
   "cell_type": "code",
   "execution_count": 27,
   "metadata": {},
   "outputs": [
    {
     "data": {
      "text/html": [
       "<div>\n",
       "<style scoped>\n",
       "    .dataframe tbody tr th:only-of-type {\n",
       "        vertical-align: middle;\n",
       "    }\n",
       "\n",
       "    .dataframe tbody tr th {\n",
       "        vertical-align: top;\n",
       "    }\n",
       "\n",
       "    .dataframe thead th {\n",
       "        text-align: right;\n",
       "    }\n",
       "</style>\n",
       "<table border=\"1\" class=\"dataframe\">\n",
       "  <thead>\n",
       "    <tr style=\"text-align: right;\">\n",
       "      <th></th>\n",
       "      <th>A</th>\n",
       "      <th>B</th>\n",
       "      <th>C</th>\n",
       "      <th>D</th>\n",
       "      <th>E</th>\n",
       "      <th>F</th>\n",
       "      <th>G</th>\n",
       "      <th>H</th>\n",
       "      <th>class</th>\n",
       "    </tr>\n",
       "  </thead>\n",
       "  <tbody>\n",
       "    <tr>\n",
       "      <th>0</th>\n",
       "      <td>0</td>\n",
       "      <td>0</td>\n",
       "      <td>0</td>\n",
       "      <td>1</td>\n",
       "      <td>1</td>\n",
       "      <td>0</td>\n",
       "      <td>0</td>\n",
       "      <td>0</td>\n",
       "      <td>1</td>\n",
       "    </tr>\n",
       "    <tr>\n",
       "      <th>1</th>\n",
       "      <td>1</td>\n",
       "      <td>1</td>\n",
       "      <td>1</td>\n",
       "      <td>0</td>\n",
       "      <td>0</td>\n",
       "      <td>0</td>\n",
       "      <td>1</td>\n",
       "      <td>0</td>\n",
       "      <td>0</td>\n",
       "    </tr>\n",
       "    <tr>\n",
       "      <th>2</th>\n",
       "      <td>0</td>\n",
       "      <td>1</td>\n",
       "      <td>0</td>\n",
       "      <td>0</td>\n",
       "      <td>1</td>\n",
       "      <td>1</td>\n",
       "      <td>0</td>\n",
       "      <td>0</td>\n",
       "      <td>0</td>\n",
       "    </tr>\n",
       "    <tr>\n",
       "      <th>3</th>\n",
       "      <td>1</td>\n",
       "      <td>0</td>\n",
       "      <td>0</td>\n",
       "      <td>1</td>\n",
       "      <td>1</td>\n",
       "      <td>0</td>\n",
       "      <td>1</td>\n",
       "      <td>1</td>\n",
       "      <td>1</td>\n",
       "    </tr>\n",
       "    <tr>\n",
       "      <th>4</th>\n",
       "      <td>1</td>\n",
       "      <td>1</td>\n",
       "      <td>0</td>\n",
       "      <td>0</td>\n",
       "      <td>1</td>\n",
       "      <td>1</td>\n",
       "      <td>0</td>\n",
       "      <td>1</td>\n",
       "      <td>1</td>\n",
       "    </tr>\n",
       "  </tbody>\n",
       "</table>\n",
       "</div>"
      ],
      "text/plain": [
       "   A  B  C  D  E  F  G  H  class\n",
       "0  0  0  0  1  1  0  0  0      1\n",
       "1  1  1  1  0  0  0  1  0      0\n",
       "2  0  1  0  0  1  1  0  0      0\n",
       "3  1  0  0  1  1  0  1  1      1\n",
       "4  1  1  0  0  1  1  0  1      1"
      ]
     },
     "metadata": {},
     "output_type": "display_data"
    }
   ],
   "source": [
    "# NO CHANGE REQUIRED\n",
    "df = pd.read_csv('./datasets/base_dataset/data.csv')\n",
    "display(df.head())\n",
    "dataset = CustomDataset(df)\n",
    "train_loader = DataLoader(dataset, batch_size=100, shuffle=True)"
   ]
  },
  {
   "cell_type": "code",
   "execution_count": 28,
   "metadata": {
    "scrolled": true
   },
   "outputs": [
    {
     "name": "stdout",
     "output_type": "stream",
     "text": [
      "Rules:\n",
      " if (A AND F) OR (D AND E) then 1\n"
     ]
    }
   ],
   "source": [
    "# NO CHANGE REQUIRED\n",
    "rules_str = extract_rules(base_rule_model, dataset.features_names)\n",
    "print('Rules:\\n', rules_str)"
   ]
  },
  {
   "cell_type": "code",
   "execution_count": null,
   "metadata": {},
   "outputs": [],
   "source": []
  },
  {
   "cell_type": "code",
   "execution_count": null,
   "metadata": {},
   "outputs": [],
   "source": []
  },
  {
   "cell_type": "code",
   "execution_count": null,
   "metadata": {},
   "outputs": [],
   "source": []
  },
  {
   "cell_type": "code",
   "execution_count": null,
   "metadata": {},
   "outputs": [],
   "source": []
  },
  {
   "cell_type": "code",
   "execution_count": null,
   "metadata": {},
   "outputs": [],
   "source": []
  },
  {
   "cell_type": "markdown",
   "metadata": {},
   "source": [
    "### BONUS Extension 4: Numerical Variables"
   ]
  },
  {
   "cell_type": "markdown",
   "metadata": {},
   "source": [
    "#### Your idea\n",
    "\n",
    "Write down with words in the following cell what your idea is to support numerical variables.\n",
    "\n",
    "You might consider looking at linear layers."
   ]
  },
  {
   "cell_type": "markdown",
   "metadata": {},
   "source": [
    "TODO WRITE HERE"
   ]
  },
  {
   "cell_type": "markdown",
   "metadata": {},
   "source": [
    "#### Your Implementation\n"
   ]
  },
  {
   "cell_type": "markdown",
   "metadata": {},
   "source": [
    "##### Dataset\n"
   ]
  },
  {
   "cell_type": "code",
   "execution_count": 29,
   "metadata": {},
   "outputs": [
    {
     "data": {
      "text/html": [
       "<div>\n",
       "<style scoped>\n",
       "    .dataframe tbody tr th:only-of-type {\n",
       "        vertical-align: middle;\n",
       "    }\n",
       "\n",
       "    .dataframe tbody tr th {\n",
       "        vertical-align: top;\n",
       "    }\n",
       "\n",
       "    .dataframe thead th {\n",
       "        text-align: right;\n",
       "    }\n",
       "</style>\n",
       "<table border=\"1\" class=\"dataframe\">\n",
       "  <thead>\n",
       "    <tr style=\"text-align: right;\">\n",
       "      <th></th>\n",
       "      <th>A</th>\n",
       "      <th>B</th>\n",
       "      <th>C</th>\n",
       "      <th>D</th>\n",
       "      <th>E</th>\n",
       "      <th>F</th>\n",
       "      <th>G</th>\n",
       "      <th>H</th>\n",
       "      <th>class</th>\n",
       "    </tr>\n",
       "  </thead>\n",
       "  <tbody>\n",
       "    <tr>\n",
       "      <th>0</th>\n",
       "      <td>2.041188</td>\n",
       "      <td>9.618360</td>\n",
       "      <td>5.068938</td>\n",
       "      <td>5.350196</td>\n",
       "      <td>4.575605</td>\n",
       "      <td>6.577701</td>\n",
       "      <td>3.796948</td>\n",
       "      <td>9.742304</td>\n",
       "      <td>1.0</td>\n",
       "    </tr>\n",
       "    <tr>\n",
       "      <th>1</th>\n",
       "      <td>4.207316</td>\n",
       "      <td>9.282265</td>\n",
       "      <td>3.665397</td>\n",
       "      <td>1.199405</td>\n",
       "      <td>9.878723</td>\n",
       "      <td>4.789212</td>\n",
       "      <td>2.896424</td>\n",
       "      <td>5.015977</td>\n",
       "      <td>0.0</td>\n",
       "    </tr>\n",
       "    <tr>\n",
       "      <th>2</th>\n",
       "      <td>3.458798</td>\n",
       "      <td>5.682233</td>\n",
       "      <td>5.518949</td>\n",
       "      <td>6.683992</td>\n",
       "      <td>9.336737</td>\n",
       "      <td>7.565382</td>\n",
       "      <td>4.128071</td>\n",
       "      <td>1.921739</td>\n",
       "      <td>1.0</td>\n",
       "    </tr>\n",
       "    <tr>\n",
       "      <th>3</th>\n",
       "      <td>0.561383</td>\n",
       "      <td>2.571576</td>\n",
       "      <td>6.333452</td>\n",
       "      <td>8.148394</td>\n",
       "      <td>6.036229</td>\n",
       "      <td>9.506945</td>\n",
       "      <td>2.175246</td>\n",
       "      <td>4.957858</td>\n",
       "      <td>1.0</td>\n",
       "    </tr>\n",
       "    <tr>\n",
       "      <th>4</th>\n",
       "      <td>2.118418</td>\n",
       "      <td>9.288520</td>\n",
       "      <td>2.702378</td>\n",
       "      <td>4.170750</td>\n",
       "      <td>0.551656</td>\n",
       "      <td>4.823465</td>\n",
       "      <td>4.903303</td>\n",
       "      <td>0.586376</td>\n",
       "      <td>0.0</td>\n",
       "    </tr>\n",
       "  </tbody>\n",
       "</table>\n",
       "</div>"
      ],
      "text/plain": [
       "          A         B         C         D         E         F         G  \\\n",
       "0  2.041188  9.618360  5.068938  5.350196  4.575605  6.577701  3.796948   \n",
       "1  4.207316  9.282265  3.665397  1.199405  9.878723  4.789212  2.896424   \n",
       "2  3.458798  5.682233  5.518949  6.683992  9.336737  7.565382  4.128071   \n",
       "3  0.561383  2.571576  6.333452  8.148394  6.036229  9.506945  2.175246   \n",
       "4  2.118418  9.288520  2.702378  4.170750  0.551656  4.823465  4.903303   \n",
       "\n",
       "          H  class  \n",
       "0  9.742304    1.0  \n",
       "1  5.015977    0.0  \n",
       "2  1.921739    1.0  \n",
       "3  4.957858    1.0  \n",
       "4  0.586376    0.0  "
      ]
     },
     "metadata": {},
     "output_type": "display_data"
    }
   ],
   "source": [
    "# NO CHANGE REQUIRED\n",
    "df = pd.read_csv('./datasets/numerical_dataset/data.csv')\n",
    "display(df.head())\n",
    "dataset = CustomDataset(df)\n",
    "train_loader = DataLoader(dataset, batch_size=100, shuffle=True)"
   ]
  },
  {
   "cell_type": "code",
   "execution_count": null,
   "metadata": {},
   "outputs": [],
   "source": []
  },
  {
   "cell_type": "code",
   "execution_count": null,
   "metadata": {},
   "outputs": [],
   "source": []
  },
  {
   "cell_type": "code",
   "execution_count": null,
   "metadata": {},
   "outputs": [],
   "source": []
  },
  {
   "cell_type": "code",
   "execution_count": null,
   "metadata": {},
   "outputs": [],
   "source": []
  },
  {
   "cell_type": "code",
   "execution_count": 30,
   "metadata": {},
   "outputs": [],
   "source": [
    "#pip uninstall torch"
   ]
  }
 ],
 "metadata": {
  "kernelspec": {
   "display_name": "Python 3",
   "language": "python",
   "name": "python3"
  },
  "language_info": {
   "codemirror_mode": {
    "name": "ipython",
    "version": 3
   },
   "file_extension": ".py",
   "mimetype": "text/x-python",
   "name": "python",
   "nbconvert_exporter": "python",
   "pygments_lexer": "ipython3",
   "version": "3.8.5"
  },
  "toc": {
   "base_numbering": 1,
   "nav_menu": {},
   "number_sections": true,
   "sideBar": true,
   "skip_h1_title": true,
   "title_cell": "Table of Contents",
   "title_sidebar": "Contents",
   "toc_cell": true,
   "toc_position": {
    "height": "calc(100% - 180px)",
    "left": "10px",
    "top": "150px",
    "width": "306.594px"
   },
   "toc_section_display": true,
   "toc_window_display": false
  }
 },
 "nbformat": 4,
 "nbformat_minor": 5
}
